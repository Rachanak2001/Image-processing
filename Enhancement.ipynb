{
 "cells": [
  {
   "cell_type": "code",
   "execution_count": 8,
   "id": "861193f7",
   "metadata": {},
   "outputs": [],
   "source": [
    "from PIL import Image\n",
    "from PIL import ImageEnhance\n",
    "image=Image.open('pic4.jpg')\n",
    "image.show()\n",
    "enh_bri=ImageEnhance.Brightness(image)\n",
    "brightness=1.5\n",
    "image_brightened=enh_bri.enhance(brightness)\n",
    "image_brightened.show()\n",
    "enh_col=ImageEnhance.Color(image)\n",
    "color=1.5\n",
    "image_colored=enh_col.enhance(color)\n",
    "image_colored.show()\n",
    "enh_con=ImageEnhance.Contrast(image)\n",
    "contrast=1.5\n",
    "image_contrasted=enh_con.enhance(contrast)\n",
    "image_contrasted.show()\n",
    "enh_sha=ImageEnhance.Sharpness(image)\n",
    "sharpness=3.0\n",
    "image_sharped=enh_sha.enhance(sharpness)\n",
    "image_sharped.show()"
   ]
  },
  {
   "cell_type": "code",
   "execution_count": null,
   "id": "7462726c",
   "metadata": {},
   "outputs": [],
   "source": []
  }
 ],
 "metadata": {
  "kernelspec": {
   "display_name": "Python 3",
   "language": "python",
   "name": "python3"
  },
  "language_info": {
   "codemirror_mode": {
    "name": "ipython",
    "version": 3
   },
   "file_extension": ".py",
   "mimetype": "text/x-python",
   "name": "python",
   "nbconvert_exporter": "python",
   "pygments_lexer": "ipython3",
   "version": "3.8.8"
  }
 },
 "nbformat": 4,
 "nbformat_minor": 5
}
