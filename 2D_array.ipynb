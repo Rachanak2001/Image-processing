{
 "cells": [
  {
   "cell_type": "code",
   "execution_count": 2,
   "id": "2deee1e5",
   "metadata": {},
   "outputs": [
    {
     "data": {
      "text/plain": [
       "-1"
      ]
     },
     "execution_count": 2,
     "metadata": {},
     "output_type": "execute_result"
    }
   ],
   "source": [
    "#Program to create an image using 2D array.\n",
    "import cv2 as c\n",
    "import numpy as np\n",
    "from PIL import Image\n",
    "array=np.zeros([100,200,3],dtype=np.uint8)\n",
    "array[:,:100]=[255,130,0]\n",
    "array[:,100:]=[0,0,255]\n",
    "img=Image.fromarray(array)\n",
    "img.save('flower5.jpg')\n",
    "img.show()\n",
    "c.waitKey(0)"
   ]
  }
 ],
 "metadata": {
  "kernelspec": {
   "display_name": "Python 3 (ipykernel)",
   "language": "python",
   "name": "python3"
  },
  "language_info": {
   "codemirror_mode": {
    "name": "ipython",
    "version": 3
   },
   "file_extension": ".py",
   "mimetype": "text/x-python",
   "name": "python",
   "nbconvert_exporter": "python",
   "pygments_lexer": "ipython3",
   "version": "3.9.7"
  }
 },
 "nbformat": 4,
 "nbformat_minor": 5
}
