{
 "cells": [
  {
   "cell_type": "code",
   "execution_count": null,
   "id": "24e2b8c1",
   "metadata": {},
   "outputs": [],
   "source": [
    "import cv2\n",
    "# Read the original image\n",
    "\n",
    "img = cv2.imread('pic14.jpg')\n",
    "\n",
    "# Display original image\n",
    "\n",
    "cv2.imshow('Original', img)\n",
    "\n",
    "cv2.waitKey(0)\n",
    "\n",
    "\n",
    "# Convert to graycsale\n",
    "\n",
    "img_gray = cv2.cvtColor(img, cv2.COLOR_BGR2GRAY)\n",
    "\n",
    "# Blur the image for better edge detection\n",
    "\n",
    "img_blur = cv2.GaussianBlur(img_gray, (3,3), 0)\n",
    "\n",
    " \n",
    "\n",
    "# Sobel Edge Detection\n",
    "\n",
    "sobelx = cv2.Sobel(src=img_blur, ddepth=cv2.CV_64F, dx=1, dy=0, ksize=5) # Sobel Edge Detection on the X axis\n",
    "\n",
    "sobely = cv2.Sobel(src=img_blur, ddepth=cv2.CV_64F, dx=0, dy=1, ksize=5) # Sobel Edge Detection on the Y axis\n",
    "\n",
    "sobelxy = cv2.Sobel(src=img_blur, ddepth=cv2.CV_64F, dx=1, dy=1, ksize=5) # Combined X and Y Sobel Edge Detection\n",
    "\n",
    "# Display Sobel Edge Detection Images\n",
    "\n",
    "cv2.imshow('Sobel X', sobelx)\n",
    "\n",
    "cv2.waitKey(0)\n",
    "\n",
    "cv2.imshow('Sobel Y', sobely)\n",
    "\n",
    "cv2.waitKey(0)\n",
    "\n",
    "cv2.imshow('Sobel X Y using Sobel() function', sobelxy)\n",
    "\n",
    "cv2.waitKey(0)\n",
    "\n",
    "# Canny Edge Detection\n",
    "edges = cv2.Canny(image=img_blur, threshold1=100, threshold2=200) # Canny Edge Detection\n",
    "\n",
    "# Display Canny Edge Detection Image\n",
    "cv2.imshow('Canny Edge Detection', edges)\n",
    "cv2.waitKey(0)\n",
    "cv2.destroyAllWindows()\n"
   ]
  },
  {
   "cell_type": "code",
   "execution_count": null,
   "id": "e67d24ea",
   "metadata": {},
   "outputs": [],
   "source": []
  },
  {
   "cell_type": "code",
   "execution_count": null,
   "id": "af1f3724",
   "metadata": {},
   "outputs": [],
   "source": []
  }
 ],
 "metadata": {
  "kernelspec": {
   "display_name": "Python 3",
   "language": "python",
   "name": "python3"
  },
  "language_info": {
   "codemirror_mode": {
    "name": "ipython",
    "version": 3
   },
   "file_extension": ".py",
   "mimetype": "text/x-python",
   "name": "python",
   "nbconvert_exporter": "python",
   "pygments_lexer": "ipython3",
   "version": "3.8.8"
  }
 },
 "nbformat": 4,
 "nbformat_minor": 5
}
