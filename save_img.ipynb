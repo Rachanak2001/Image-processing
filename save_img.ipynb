{
 "cells": [
  {
   "cell_type": "code",
   "execution_count": 4,
   "id": "666d423b",
   "metadata": {},
   "outputs": [
    {
     "name": "stdout",
     "output_type": "stream",
     "text": [
      "The image is successfully saved.\n"
     ]
    }
   ],
   "source": [
    "import cv2\n",
    "OriginalImg=cv2.imread('pic4.jpg')\n",
    "GrayImg=cv2.imread('pic4.jpg',0)\n",
    "isSaved=cv2.imwrite('C:\\Rachana.K\\Data sets\\i.jpg',GrayImg)\n",
    "cv2.imshow('Display original Image',OriginalImg)\n",
    "cv2.imshow('Dispaly Grayscale Image',GrayImg)\n",
    "cv2.waitKey(0)\n",
    "cv2.destroyAllWindows()\n",
    "if isSaved:\n",
    "    print('The image is successfully saved.')"
   ]
  }
 ],
 "metadata": {
  "kernelspec": {
   "display_name": "Python 3",
   "language": "python",
   "name": "python3"
  },
  "language_info": {
   "codemirror_mode": {
    "name": "ipython",
    "version": 3
   },
   "file_extension": ".py",
   "mimetype": "text/x-python",
   "name": "python",
   "nbconvert_exporter": "python",
   "pygments_lexer": "ipython3",
   "version": "3.8.8"
  }
 },
 "nbformat": 4,
 "nbformat_minor": 5
}
